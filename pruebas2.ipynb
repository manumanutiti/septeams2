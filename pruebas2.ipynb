{
 "cells": [
  {
   "cell_type": "code",
   "execution_count": 1,
   "metadata": {},
   "outputs": [],
   "source": [
    "import pandas as pd\n",
    "df = pd.read_csv(\"team_scores.csv\")"
   ]
  },
  {
   "cell_type": "code",
   "execution_count": 2,
   "metadata": {},
   "outputs": [
    {
     "data": {
      "text/plain": [
       "['Juan',\n",
       " 'Maria',\n",
       " 'Pedro',\n",
       " 'Luisa',\n",
       " 'Carlos',\n",
       " 'Ana',\n",
       " 'Jorge',\n",
       " 'Sofia',\n",
       " 'Diego',\n",
       " 'Carmen',\n",
       " 'Camila']"
      ]
     },
     "execution_count": 2,
     "metadata": {},
     "output_type": "execute_result"
    }
   ],
   "source": [
    "names = df['name'].unique().tolist()\n",
    "names"
   ]
  },
  {
   "cell_type": "code",
   "execution_count": 3,
   "metadata": {},
   "outputs": [
    {
     "name": "stdout",
     "output_type": "stream",
     "text": [
      "{'Juan': {'team_work': 10.0, 'hard_skill': 9.0}, 'Maria': {'team_work': 10.0, 'hard_skill': 9.0}, 'Pedro': {'team_work': 10.0, 'hard_skill': 6.0}, 'Luisa': {'team_work': 10.0, 'hard_skill': 5.0}, 'Carlos': {'team_work': 7.0, 'hard_skill': 7.0}, 'Ana': {'team_work': 7.0, 'hard_skill': 6.0}, 'Jorge': {'team_work': 9.0, 'hard_skill': 4.0}, 'Sofia': {'team_work': 4.0, 'hard_skill': 2.0}, 'Diego': {'team_work': 7.0, 'hard_skill': 6.0}, 'Carmen': {'team_work': 4.0, 'hard_skill': 9.0}, 'Camila': {'team_work': 2.0, 'hard_skill': 0.0}}\n"
     ]
    }
   ],
   "source": [
    "def last_survey():\n",
    "        evaluations = {}\n",
    "        last = df[\"date\"].max()\n",
    "        last_survey = df[df[\"date\"] == last]\n",
    "        \n",
    "        for name in names:\n",
    "            team_member = last_survey[last_survey['name'] == name]\n",
    "            \n",
    "            # Comprobar si existen datos para el miembro del equipo (HAY que implementar limpieza de datos antes en el futuro)\n",
    "            if not team_member.empty:\n",
    "                team_member_tw = team_member['team_work'].values[0]\n",
    "                team_member_hs = team_member['hard_skill'].values[0]\n",
    "            else:\n",
    "                \n",
    "                team_member_tw = None\n",
    "                team_member_hs = None\n",
    "\n",
    "            evaluations[name] = {\n",
    "                'team_work': float(team_member_tw),\n",
    "                'hard_skill': float(team_member_hs)\n",
    "            }\n",
    "\n",
    "        return evaluations\n",
    "\n",
    "print(last_survey())"
   ]
  },
  {
   "cell_type": "code",
   "execution_count": 4,
   "metadata": {},
   "outputs": [],
   "source": []
  },
  {
   "cell_type": "code",
   "execution_count": 23,
   "metadata": {},
   "outputs": [],
   "source": [
    "def last_mean(evaluations=last_survey()):\n",
    "    tw_data_last = []\n",
    "    hs_data_last = []\n",
    "    for name, item in evaluations.items():\n",
    "\n",
    "        tw_data_last.append(item['team_work'])\n",
    "        hs_data_last.append(item['hard_skill'])\n",
    "\n",
    "    tw_data_mean = sum(tw_data_last) / len(tw_data_last)\n",
    "    hs_data_mean = round(sum(hs_data_last) / len(hs_data_last), 2)\n",
    "\n",
    "    return round(tw_data_mean, 2), hs_data_mean\n",
    "\n"
   ]
  },
  {
   "cell_type": "code",
   "execution_count": 24,
   "metadata": {},
   "outputs": [
    {
     "data": {
      "text/plain": [
       "(7.27, 5.73)"
      ]
     },
     "execution_count": 24,
     "metadata": {},
     "output_type": "execute_result"
    }
   ],
   "source": [
    "evaluations = last_mean()\n",
    "evaluations"
   ]
  }
 ],
 "metadata": {
  "kernelspec": {
   "display_name": "venv",
   "language": "python",
   "name": "python3"
  },
  "language_info": {
   "codemirror_mode": {
    "name": "ipython",
    "version": 3
   },
   "file_extension": ".py",
   "mimetype": "text/x-python",
   "name": "python",
   "nbconvert_exporter": "python",
   "pygments_lexer": "ipython3",
   "version": "3.12.3"
  }
 },
 "nbformat": 4,
 "nbformat_minor": 2
}
