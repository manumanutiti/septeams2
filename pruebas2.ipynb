{
 "cells": [
  {
   "cell_type": "code",
   "execution_count": 1,
   "metadata": {},
   "outputs": [],
   "source": [
    "import pandas as pd\n",
    "df = pd.read_csv(\"team_scores.csv\")"
   ]
  },
  {
   "cell_type": "code",
   "execution_count": 2,
   "metadata": {},
   "outputs": [
    {
     "data": {
      "text/plain": [
       "['Juan',\n",
       " 'Maria',\n",
       " 'Pedro',\n",
       " 'Luisa',\n",
       " 'Carlos',\n",
       " 'Ana',\n",
       " 'Jorge',\n",
       " 'Sofia',\n",
       " 'Diego',\n",
       " 'Carmen',\n",
       " 'Camila']"
      ]
     },
     "execution_count": 2,
     "metadata": {},
     "output_type": "execute_result"
    }
   ],
   "source": [
    "names = df['name'].unique().tolist()\n",
    "names"
   ]
  },
  {
   "cell_type": "code",
   "execution_count": 3,
   "metadata": {},
   "outputs": [
    {
     "name": "stdout",
     "output_type": "stream",
     "text": [
      "{'Juan': {'team_work': 10.0, 'hard_skill': 9.0}, 'Maria': {'team_work': 10.0, 'hard_skill': 9.0}, 'Pedro': {'team_work': 10.0, 'hard_skill': 6.0}, 'Luisa': {'team_work': 10.0, 'hard_skill': 5.0}, 'Carlos': {'team_work': 7.0, 'hard_skill': 7.0}, 'Ana': {'team_work': 7.0, 'hard_skill': 6.0}, 'Jorge': {'team_work': 9.0, 'hard_skill': 4.0}, 'Sofia': {'team_work': 4.0, 'hard_skill': 2.0}, 'Diego': {'team_work': 7.0, 'hard_skill': 6.0}, 'Carmen': {'team_work': 4.0, 'hard_skill': 9.0}, 'Camila': {'team_work': 2.0, 'hard_skill': 0.0}}\n"
     ]
    }
   ],
   "source": [
    "def last_survey():\n",
    "        evaluations = {}\n",
    "        last = df[\"date\"].max()\n",
    "        last_survey = df[df[\"date\"] == last]\n",
    "        \n",
    "        for name in names:\n",
    "            team_member = last_survey[last_survey['name'] == name]\n",
    "            \n",
    "            # Comprobar si existen datos para el miembro del equipo (HAY que implementar limpieza de datos antes en el futuro)\n",
    "            if not team_member.empty:\n",
    "                team_member_tw = team_member['team_work'].values[0]\n",
    "                team_member_hs = team_member['hard_skill'].values[0]\n",
    "            else:\n",
    "                \n",
    "                team_member_tw = None\n",
    "                team_member_hs = None\n",
    "\n",
    "            evaluations[name] = {\n",
    "                'team_work': float(team_member_tw),\n",
    "                'hard_skill': float(team_member_hs)\n",
    "            }\n",
    "\n",
    "        return evaluations\n",
    "\n",
    "print(last_survey())"
   ]
  },
  {
   "cell_type": "code",
   "execution_count": 4,
   "metadata": {},
   "outputs": [],
   "source": []
  },
  {
   "cell_type": "code",
   "execution_count": 4,
   "metadata": {},
   "outputs": [],
   "source": [
    "def last_mean(evaluations=last_survey()):\n",
    "    tw_data_last = []\n",
    "    hs_data_last = []\n",
    "    for name, item in evaluations.items():\n",
    "\n",
    "        tw_data_last.append(item['team_work'])\n",
    "        hs_data_last.append(item['hard_skill'])\n",
    "\n",
    "    tw_data_mean = sum(tw_data_last) / len(tw_data_last)\n",
    "    hs_data_mean = round(sum(hs_data_last) / len(hs_data_last), 2)\n",
    "\n",
    "    return round(tw_data_mean, 2), hs_data_mean\n",
    "\n"
   ]
  },
  {
   "cell_type": "code",
   "execution_count": 5,
   "metadata": {},
   "outputs": [
    {
     "data": {
      "text/plain": [
       "(7.27, 5.73)"
      ]
     },
     "execution_count": 5,
     "metadata": {},
     "output_type": "execute_result"
    }
   ],
   "source": [
    "evaluations = last_mean()\n",
    "evaluations"
   ]
  },
  {
   "cell_type": "code",
   "execution_count": 6,
   "metadata": {},
   "outputs": [
    {
     "data": {
      "text/plain": [
       "7.2"
      ]
     },
     "execution_count": 6,
     "metadata": {},
     "output_type": "execute_result"
    }
   ],
   "source": [
    "tw_work_mean = round(float(df['team_work'].mean()), 2)\n",
    "tw_work_mean"
   ]
  },
  {
   "cell_type": "code",
   "execution_count": 7,
   "metadata": {},
   "outputs": [],
   "source": [
    "nombres_reales = [\"Ana\", \"Carlos\", \"Lucía\", \"Pedro\", \"María\", \"Juan\", \"Sofía\", \"Miguel\", \"Elena\", \"Roberto\"]\n",
    "pseudonimos = [\"Zorix\", \"Lumen\", \"Taris\", \"Sivel\", \"Nydra\", \"Voren\", \"Kaira\", \"Elvin\", \"Zaris\", \"Relon\", \"Tirin\", \"Almen\", \"Oulen\"]"
   ]
  },
  {
   "cell_type": "code",
   "execution_count": 8,
   "metadata": {},
   "outputs": [],
   "source": [
    "import random"
   ]
  },
  {
   "cell_type": "code",
   "execution_count": 9,
   "metadata": {},
   "outputs": [
    {
     "data": {
      "text/plain": [
       "['Sivel',\n",
       " 'Oulen',\n",
       " 'Lumen',\n",
       " 'Kaira',\n",
       " 'Tirin',\n",
       " 'Taris',\n",
       " 'Zaris',\n",
       " 'Nydra',\n",
       " 'Almen',\n",
       " 'Zorix']"
      ]
     },
     "execution_count": 9,
     "metadata": {},
     "output_type": "execute_result"
    }
   ],
   "source": [
    "pseudo_names =random.sample(pseudonimos, len(nombres_reales))\n",
    "pseudo_names"
   ]
  },
  {
   "cell_type": "markdown",
   "metadata": {},
   "source": []
  },
  {
   "cell_type": "code",
   "execution_count": 10,
   "metadata": {},
   "outputs": [
    {
     "data": {
      "text/plain": [
       "{'Ana': 'Sivel',\n",
       " 'Carlos': 'Oulen',\n",
       " 'Lucía': 'Lumen',\n",
       " 'Pedro': 'Kaira',\n",
       " 'María': 'Tirin',\n",
       " 'Juan': 'Taris',\n",
       " 'Sofía': 'Zaris',\n",
       " 'Miguel': 'Nydra',\n",
       " 'Elena': 'Almen',\n",
       " 'Roberto': 'Zorix'}"
      ]
     },
     "execution_count": 10,
     "metadata": {},
     "output_type": "execute_result"
    }
   ],
   "source": [
    "anonymous = dict(zip(nombres_reales, pseudo_names))\n",
    "anonymous"
   ]
  },
  {
   "cell_type": "code",
   "execution_count": 11,
   "metadata": {},
   "outputs": [
    {
     "data": {
      "text/plain": [
       "['Sivel',\n",
       " 'Oulen',\n",
       " 'Lumen',\n",
       " 'Kaira',\n",
       " 'Tirin',\n",
       " 'Taris',\n",
       " 'Zaris',\n",
       " 'Nydra',\n",
       " 'Almen',\n",
       " 'Zorix']"
      ]
     },
     "execution_count": 11,
     "metadata": {},
     "output_type": "execute_result"
    }
   ],
   "source": [
    "anonymous_names = [name for name in anonymous.values()]\n",
    "anonymous_names"
   ]
  },
  {
   "cell_type": "code",
   "execution_count": 12,
   "metadata": {},
   "outputs": [],
   "source": [
    "evolution = {\n",
    "    'Juan': [10, 10, 10, 10, 9, 10, 10, 10, 10, 10, 10, 10],\n",
    "    'Maria': [9, 9, 9, 9, 10, 10, 10, 10, 10, 10, 10, 10],\n",
    "    'Pedro': [10, 10, 9, 8, 8, 10, 10, 10, 10, 10, 10, 10],\n",
    "    'Luisa': [10, 10, 10, 9, 10, 10, 10, 10, 10, 10, 10, 10],\n",
    "    'Carlos': [7, 7, 7, 7, 7, 7, 7, 5, 6, 6, 7, 7],\n",
    "    'Ana': [6, 6, 6, 6, 6, 7, 7, 7, 7, 7, 6, 7],\n",
    "    'Jorge': [10, 10, 10, 10, 10, 9, 9, 9, 9, 9, 9, 9],\n",
    "    'Sofia': [5, 5, 5, 4, 4, 4, 4, 4, 4, 4, 4, 4],\n",
    "    'Diego': [5, 6, 6, 5, 6, 6, 6, 7, 7, 7, 7, 7],\n",
    "    'Carmen': [5, 5, 5, 5, 5, 5, 5, 5, 5, 4, 5, 4],\n",
    "    'Camila': [3, 3, 3, 1, 2, 2, 2, 2, 2, 2, 2, 2]\n",
    "}\n",
    "\n",
    "# Diccionario con los pseudónimos (anonymous_zip_dict)\n",
    "anonymous_zip_dict = {\n",
    "    'Ana': 'Zorix',\n",
    "    'Carlos': 'Zaris',\n",
    "    'Lucía': 'Sivel',\n",
    "    'Pedro': 'Relon',\n",
    "    'María': 'Voren',\n",
    "    'Juan': 'Elvin',\n",
    "    'Sofía': 'Lumen',\n",
    "    'Miguel': 'Almen',\n",
    "    'Elena': 'Tirin',\n",
    "    'Roberto': 'Nydra'\n",
    "}\n",
    "\n",
    "def anon_evo_data(evolution= evolution):\n",
    "    evolution_anon = {}\n",
    "\n",
    "    for real_name, lista_notas in evolution.items():\n",
    "        if real_name in anonymous_zip_dict:\n",
    "            new_name = anonymous_zip_dict[real_name]\n",
    "        else:\n",
    "            new_name = \"Doe\"\n",
    "        evolution_anon[new_name] = lista_notas\n",
    "\n",
    "    return evolution_anon\n"
   ]
  },
  {
   "cell_type": "code",
   "execution_count": 13,
   "metadata": {},
   "outputs": [
    {
     "data": {
      "text/plain": [
       "{'Elvin': [10, 10, 10, 10, 9, 10, 10, 10, 10, 10, 10, 10],\n",
       " 'Doe': [3, 3, 3, 1, 2, 2, 2, 2, 2, 2, 2, 2],\n",
       " 'Relon': [10, 10, 9, 8, 8, 10, 10, 10, 10, 10, 10, 10],\n",
       " 'Zaris': [7, 7, 7, 7, 7, 7, 7, 5, 6, 6, 7, 7],\n",
       " 'Zorix': [6, 6, 6, 6, 6, 7, 7, 7, 7, 7, 6, 7]}"
      ]
     },
     "execution_count": 13,
     "metadata": {},
     "output_type": "execute_result"
    }
   ],
   "source": [
    "anon_evo_data()"
   ]
  },
  {
   "cell_type": "code",
   "execution_count": 18,
   "metadata": {},
   "outputs": [
    {
     "data": {
      "text/plain": [
       "{'2023-01': 7.27,\n",
       " '2023-02': 7.36,\n",
       " '2023-03': 7.27,\n",
       " '2023-04': 6.73,\n",
       " '2023-05': 7.0,\n",
       " '2023-06': 7.27,\n",
       " '2023-07': 7.27,\n",
       " '2023-08': 7.18,\n",
       " '2023-09': 7.27,\n",
       " '2023-10': 7.18,\n",
       " '2023-11': 7.27,\n",
       " '2023-12': 7.27}"
      ]
     },
     "execution_count": 18,
     "metadata": {},
     "output_type": "execute_result"
    }
   ],
   "source": [
    "date_unique = df['date'].unique().tolist()\n",
    "global_mean_by_date = {}\n",
    "\n",
    "for date in date_unique:\n",
    "    date_data = df[df['date'] == date]\n",
    "    tw_mean_by_date = date_data['team_work'].mean()\n",
    "    global_mean_by_date[date] = round(float(tw_mean_by_date), 2)\n",
    "\n",
    "global_mean_by_date"
   ]
  }
 ],
 "metadata": {
  "kernelspec": {
   "display_name": "venv",
   "language": "python",
   "name": "python3"
  },
  "language_info": {
   "codemirror_mode": {
    "name": "ipython",
    "version": 3
   },
   "file_extension": ".py",
   "mimetype": "text/x-python",
   "name": "python",
   "nbconvert_exporter": "python",
   "pygments_lexer": "ipython3",
   "version": "3.12.3"
  }
 },
 "nbformat": 4,
 "nbformat_minor": 2
}
